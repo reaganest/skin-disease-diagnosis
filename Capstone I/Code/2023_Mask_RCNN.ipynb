{
  "cells": [
    {
      "cell_type": "code",
      "execution_count": 5,
      "metadata": {
        "colab": {
          "base_uri": "https://localhost:8080/"
        },
        "id": "_F1g6q1b_VUT",
        "outputId": "b7e43b28-39b3-44f4-a2f0-4ab570f10175"
      },
      "outputs": [
        {
          "output_type": "stream",
          "name": "stdout",
          "text": [
            "Mounted at /content/drive\n"
          ]
        }
      ],
      "source": [
        "#Block 1\n",
        "#import from drive\n",
        "from google.colab import drive\n",
        "drive.mount('/content/drive')\n",
        "\n",
        "#importing libraries\n",
        "from PIL import Image\n",
        "import os\n",
        "import torch\n",
        "import torchvision\n",
        "import cv2\n",
        "import argparse\n",
        "import numpy as np\n",
        "import random\n",
        "import matplotlib.pyplot as plt\n",
        "from torchvision.transforms import transforms as transforms"
      ]
    },
    {
      "cell_type": "code",
      "execution_count": 6,
      "metadata": {
        "id": "XmyCWQ80_VUW",
        "colab": {
          "base_uri": "https://localhost:8080/",
          "height": 154,
          "referenced_widgets": [
            "b669a44794434184bab08f447fbbe19c",
            "d4582e7136704a3daeeca3ae71b84e32",
            "ebd9ae4487334bc9b61465882e5f6b99",
            "339ad993d1c04d95b9b31b7804c705e4",
            "f538dbb0f34f4dedac4177c1d11eca4c",
            "7cf8adead22647c583787d0e66b66256",
            "a5d7807d96d8425f947befd37c30dea1",
            "14077b8d39be4a0699ce784615f80833",
            "4a7495ba66d84555867f697f7abc7de1",
            "c920e02120074fbc9d7df73e8eb5536e",
            "1c8f34e40eb34e8baee89c7609b0318d"
          ]
        },
        "outputId": "a111bedf-6c30-4caf-86ce-4b9eb34d859a"
      },
      "outputs": [
        {
          "output_type": "stream",
          "name": "stderr",
          "text": [
            "/usr/local/lib/python3.8/dist-packages/torchvision/models/_utils.py:208: UserWarning: The parameter 'pretrained' is deprecated since 0.13 and may be removed in the future, please use 'weights' instead.\n",
            "  warnings.warn(\n",
            "/usr/local/lib/python3.8/dist-packages/torchvision/models/_utils.py:223: UserWarning: Arguments other than a weight enum or `None` for 'weights' are deprecated since 0.13 and may be removed in the future. The current behavior is equivalent to passing `weights=MaskRCNN_ResNet50_FPN_Weights.COCO_V1`. You can also use `weights=MaskRCNN_ResNet50_FPN_Weights.DEFAULT` to get the most up-to-date weights.\n",
            "  warnings.warn(msg)\n",
            "Downloading: \"https://download.pytorch.org/models/maskrcnn_resnet50_fpn_coco-bf2d0c1e.pth\" to /root/.cache/torch/hub/checkpoints/maskrcnn_resnet50_fpn_coco-bf2d0c1e.pth\n"
          ]
        },
        {
          "output_type": "display_data",
          "data": {
            "text/plain": [
              "  0%|          | 0.00/170M [00:00<?, ?B/s]"
            ],
            "application/vnd.jupyter.widget-view+json": {
              "version_major": 2,
              "version_minor": 0,
              "model_id": "b669a44794434184bab08f447fbbe19c"
            }
          },
          "metadata": {}
        }
      ],
      "source": [
        "#Block 2\n",
        "# initializing the model\n",
        "model = torchvision.models.detection.maskrcnn_resnet50_fpn(pretrained=True,\n",
        "                                                           progress=True, \n",
        "                                                           num_classes=91)\n",
        "# set up computation device & load model into the computation device\n",
        "device = torch.device('cuda' if torch.cuda.is_available() else 'cpu')\n",
        "model.to(device).eval() #eval mode\n",
        "\n",
        "# using transform to convert the image to tensor\n",
        "transform = transforms.Compose([transforms.ToTensor()])\n"
      ]
    },
    {
      "cell_type": "code",
      "execution_count": 7,
      "metadata": {
        "id": "wg9Ev5-H_VUX"
      },
      "outputs": [],
      "source": [
        "# Block 3\n",
        "COLORS = np.random.uniform(0, 255, size=(1000, 3))\n",
        "\n",
        "#getting masks\n",
        "def get_outputs(outputs):\n",
        "    scores = list(outputs[0]['scores'].detach().cpu().numpy())\n",
        "    max_value = max(scores)\n",
        "    thresholded_preds_inidices = scores.index(max_value) \n",
        "\n",
        "    # one mask picked and the object masks that are below the threshold are discarded\n",
        "    masks = (outputs[0]['masks']>0.5).squeeze().detach().cpu().numpy()\n",
        "    masks = masks[:1]\n",
        "\n",
        "    #getting bounding boxes (x1, y1), (x2, y2) format\n",
        "    boxes = [[(int(i[0]), int(i[1])), (int(i[2]), int(i[3]))] for i in outputs[0]['boxes'].detach().cpu()]\n",
        "    # discard bounding boxes below threshold value\n",
        "    boxes = boxes[:1]\n",
        "    return masks, boxes\n",
        "\n",
        "def draw_segmentation_map(image, masks, boxes):\n",
        "    alpha = 1 \n",
        "    beta = 0.6 #makes segmentation map more transparent\n",
        "    gamma = 0 #scalar added to each sum\n",
        "    for i in range(len(masks)):\n",
        "        red_map = np.zeros_like(masks[i]).astype(np.uint8)\n",
        "        green_map = np.zeros_like(masks[i]).astype(np.uint8)\n",
        "        blue_map = np.zeros_like(masks[i]).astype(np.uint8)\n",
        "        #applies random mask color to every object\n",
        "        color = COLORS[random.randrange(0, len(COLORS))] \n",
        "        red_map[masks[i] == 1], green_map[masks[i] == 1], blue_map[masks[i] == 1]  = color\n",
        "        \n",
        "        #combines all masks into a one image\n",
        "        segmentation_map = np.stack([red_map, green_map, blue_map], axis=2)\n",
        "        #convert the original PIL image into NumPy format\n",
        "        image = np.array(image)\n",
        "        #apply mask on the image\n",
        "        cv2.addWeighted(image, alpha, segmentation_map, beta, gamma, image)\n",
        "        \n",
        "        #draws the bounding box with the corresponding color around the object\n",
        "        cv2.rectangle(image, boxes[i][0], boxes[i][1], color=color, thickness=5)\n",
        "    \n",
        "    return image\n"
      ]
    },
    {
      "cell_type": "code",
      "execution_count": 8,
      "metadata": {
        "colab": {
          "base_uri": "https://localhost:8080/",
          "height": 265
        },
        "id": "6RkmMU7J_VUY",
        "outputId": "965c43e3-b279-4397-9370-fa3a195f5d8b"
      },
      "outputs": [
        {
          "output_type": "execute_result",
          "data": {
            "text/plain": [
              "<matplotlib.image.AxesImage at 0x7f67a0bf7910>"
            ]
          },
          "metadata": {},
          "execution_count": 8
        },
        {
          "output_type": "display_data",
          "data": {
            "text/plain": [
              "<Figure size 432x288 with 1 Axes>"
            ],
            "image/png": "[encoded data removed]"
          },
          "metadata": {
            "needs_background": "light"
          }
        }
      ],
      "source": [
        "#Block 4\n",
        "#name of image\n",
        "images = 'CD00000017_20200810073431_0002_20201102082700_20201102_082703.jpg' \n",
        "folder = images[0:10]\n",
        "image_path = '/content/drive/MyDrive/Skin_Disease/' + images \n",
        "\n",
        "#open image & convert to RGB\n",
        "image = Image.open(image_path).convert('RGB')\n",
        "\n",
        "# copy original image for OpenCV functions and apply masks\n",
        "orig_image = image.copy()\n",
        "\n",
        "# transforming the image\n",
        "image = transform(image)\n",
        "\n",
        "# adding a batch dimension\n",
        "image = image.unsqueeze(0).to(device)\n",
        "\n",
        "# forward pass of the image through the model\n",
        "with torch.no_grad():\n",
        "    outputs = model(image)\n",
        "\n",
        "# get all the scores\n",
        "scores = list(outputs[0]['scores'].detach().cpu().numpy())\n",
        "\n",
        "masks, boxes = get_outputs(outputs)\n",
        "result = draw_segmentation_map(orig_image, masks, boxes)\n",
        "plt.axis('off')\n",
        "plt.imshow(result) "
      ]
    },
    {
      "cell_type": "code",
      "source": [
        "import pickle\n",
        "\n",
        "\n",
        "images = 'CD00000017_20200810073431_0002_20201102082700_20201102_082703.pkl' \n",
        "folder = images[0:10]\n",
        "image_path = '/content/drive/MyDrive/Skin_Disease/BU/' + images + ''\n",
        "\n",
        "with open(image_path, 'rb') as file:\n",
        "    [masks, boxes] = pickle.load(file)\n",
        "with open(image_path, 'rb') as file:\n",
        "    data = pickle.load(file)\n",
        "print(boxes)\n",
        "\n",
        "\n",
        "tl = boxes[0][0]\n",
        "print(tl)\n",
        "\n",
        "br = boxes[0][1]\n",
        "print(br)\n",
        "\n",
        "tr = (boxes[0][1][0],boxes[0][0][1])\n",
        "print(tr)\n",
        "\n",
        "bl =(boxes[0][0][0], boxes[0][1][1])\n",
        "print(bl)\n",
        "\n",
        "#img = cv2.imread(img_path)\n",
        "x1 = boxes[0][0][0]\n",
        "print(x1)\n",
        "x2= boxes[0][1][0]\n",
        "print(x2)\n",
        "y1= boxes[0][0][1]\n",
        "print(y1)\n",
        "y2= boxes[0][1][1]\n",
        "print(y2)\n",
        "\n",
        "\n",
        "# Crop the data according to your needs\n",
        "crop= data[boxes[0]]\n",
        "# Save the cropped data to a new .pkl file\n",
        "with open(\"cropped_file.pkl\", \"wb\") as f:\n",
        "    pickle.dump(crop, f)\n",
        "    \n",
        "plt.imshow(crop, cmpa=\"gray\")\n",
        "plt.show()"
      ],
      "metadata": {
        "colab": {
          "base_uri": "https://localhost:8080/",
          "height": 385
        },
        "id": "HoV5azUdmS0C",
        "outputId": "f0bee607-077d-4c68-b92e-fe0743b0c810"
      },
      "execution_count": 28,
      "outputs": [
        {
          "output_type": "stream",
          "name": "stdout",
          "text": [
            "[[(1, 105), (335, 374)]]\n",
            "(1, 105)\n",
            "(335, 374)\n",
            "(335, 105)\n",
            "(1, 374)\n",
            "1\n",
            "335\n",
            "105\n",
            "374\n"
          ]
        },
        {
          "output_type": "error",
          "ename": "AttributeError",
          "evalue": "ignored",
          "traceback": [
            "\u001b[0;31m---------------------------------------------------------------------------\u001b[0m",
            "\u001b[0;31mAttributeError\u001b[0m                            Traceback (most recent call last)",
            "\u001b[0;32m<ipython-input-28-d1551639c48f>\u001b[0m in \u001b[0;36m<module>\u001b[0;34m\u001b[0m\n\u001b[1;32m     36\u001b[0m \u001b[0;31m#boxes = np.array([[-1, -2, -1], [0, 0, 0], [1, 2, 1]])\u001b[0m\u001b[0;34m\u001b[0m\u001b[0;34m\u001b[0m\u001b[0;34m\u001b[0m\u001b[0m\n\u001b[1;32m     37\u001b[0m \u001b[0;34m\u001b[0m\u001b[0m\n\u001b[0;32m---> 38\u001b[0;31m \u001b[0mboxes\u001b[0m \u001b[0;34m=\u001b[0m \u001b[0mnp\u001b[0m\u001b[0;34m.\u001b[0m\u001b[0marray\u001b[0m\u001b[0;34m(\u001b[0m\u001b[0mboxes\u001b[0m\u001b[0;34m)\u001b[0m\u001b[0;34m[\u001b[0m\u001b[0mboxes\u001b[0m\u001b[0;34m.\u001b[0m\u001b[0mastype\u001b[0m\u001b[0;34m(\u001b[0m\u001b[0mint\u001b[0m\u001b[0;34m)\u001b[0m\u001b[0;34m]\u001b[0m\u001b[0;34m\u001b[0m\u001b[0;34m\u001b[0m\u001b[0m\n\u001b[0m\u001b[1;32m     39\u001b[0m \u001b[0;31m# Crop the data according to your needs\u001b[0m\u001b[0;34m\u001b[0m\u001b[0;34m\u001b[0m\u001b[0;34m\u001b[0m\u001b[0m\n\u001b[1;32m     40\u001b[0m \u001b[0mcrop\u001b[0m\u001b[0;34m=\u001b[0m \u001b[0mdata\u001b[0m\u001b[0;34m[\u001b[0m\u001b[0mboxes\u001b[0m\u001b[0;34m[\u001b[0m\u001b[0;36m0\u001b[0m\u001b[0;34m]\u001b[0m\u001b[0;34m]\u001b[0m\u001b[0;34m\u001b[0m\u001b[0;34m\u001b[0m\u001b[0m\n",
            "\u001b[0;31mAttributeError\u001b[0m: 'list' object has no attribute 'astype'"
          ]
        }
      ]
    }
  ],
  "metadata": {
    "kernelspec": {
      "display_name": "Python 3.8.13 ('py3torch')",
      "language": "python",
      "name": "python3"
    },
    "language_info": {
      "codemirror_mode": {
        "name": "ipython",
        "version": 3
      },
      "file_extension": ".py",
      "mimetype": "text/x-python",
      "name": "python",
      "nbconvert_exporter": "python",
      "pygments_lexer": "ipython3",
      "version": "3.8.13"
    },
    "orig_nbformat": 4,
    "vscode": {
      "interpreter": {
        "hash": "d38809b76120d20a1d3e1d897a4f47c1eaa6798af8e438a196de9dcce5e3189a"
      }
    },
    "colab": {
      "provenance": []
    },
    "widgets": {
      "application/vnd.jupyter.widget-state+json": {
        "b669a44794434184bab08f447fbbe19c": {
          "model_module": "@jupyter-widgets/controls",
          "model_name": "HBoxModel",
          "model_module_version": "1.5.0",
          "state": {
            "_dom_classes": [],
            "_model_module": "@jupyter-widgets/controls",
            "_model_module_version": "1.5.0",
            "_model_name": "HBoxModel",
            "_view_count": null,
            "_view_module": "@jupyter-widgets/controls",
            "_view_module_version": "1.5.0",
            "_view_name": "HBoxView",
            "box_style": "",
            "children": [
              "IPY_MODEL_d4582e7136704a3daeeca3ae71b84e32",
              "IPY_MODEL_ebd9ae4487334bc9b61465882e5f6b99",
              "IPY_MODEL_339ad993d1c04d95b9b31b7804c705e4"
            ],
            "layout": "IPY_MODEL_f538dbb0f34f4dedac4177c1d11eca4c"
          }
        },
        "d4582e7136704a3daeeca3ae71b84e32": {
          "model_module": "@jupyter-widgets/controls",
          "model_name": "HTMLModel",
          "model_module_version": "1.5.0",
          "state": {
            "_dom_classes": [],
            "_model_module": "@jupyter-widgets/controls",
            "_model_module_version": "1.5.0",
            "_model_name": "HTMLModel",
            "_view_count": null,
            "_view_module": "@jupyter-widgets/controls",
            "_view_module_version": "1.5.0",
            "_view_name": "HTMLView",
            "description": "",
            "description_tooltip": null,
            "layout": "IPY_MODEL_7cf8adead22647c583787d0e66b66256",
            "placeholder": "​",
            "style": "IPY_MODEL_a5d7807d96d8425f947befd37c30dea1",
            "value": "100%"
          }
        },
        "ebd9ae4487334bc9b61465882e5f6b99": {
          "model_module": "@jupyter-widgets/controls",
          "model_name": "FloatProgressModel",
          "model_module_version": "1.5.0",
          "state": {
            "_dom_classes": [],
            "_model_module": "@jupyter-widgets/controls",
            "_model_module_version": "1.5.0",
            "_model_name": "FloatProgressModel",
            "_view_count": null,
            "_view_module": "@jupyter-widgets/controls",
            "_view_module_version": "1.5.0",
            "_view_name": "ProgressView",
            "bar_style": "success",
            "description": "",
            "description_tooltip": null,
            "layout": "IPY_MODEL_14077b8d39be4a0699ce784615f80833",
            "max": 178090079,
            "min": 0,
            "orientation": "horizontal",
            "style": "IPY_MODEL_4a7495ba66d84555867f697f7abc7de1",
            "value": 178090079
          }
        },
        "339ad993d1c04d95b9b31b7804c705e4": {
          "model_module": "@jupyter-widgets/controls",
          "model_name": "HTMLModel",
          "model_module_version": "1.5.0",
          "state": {
            "_dom_classes": [],
            "_model_module": "@jupyter-widgets/controls",
            "_model_module_version": "1.5.0",
            "_model_name": "HTMLModel",
            "_view_count": null,
            "_view_module": "@jupyter-widgets/controls",
            "_view_module_version": "1.5.0",
            "_view_name": "HTMLView",
            "description": "",
            "description_tooltip": null,
            "layout": "IPY_MODEL_c920e02120074fbc9d7df73e8eb5536e",
            "placeholder": "​",
            "style": "IPY_MODEL_1c8f34e40eb34e8baee89c7609b0318d",
            "value": " 170M/170M [00:04&lt;00:00, 40.0MB/s]"
          }
        },
        "f538dbb0f34f4dedac4177c1d11eca4c": {
          "model_module": "@jupyter-widgets/base",
          "model_name": "LayoutModel",
          "model_module_version": "1.2.0",
          "state": {
            "_model_module": "@jupyter-widgets/base",
            "_model_module_version": "1.2.0",
            "_model_name": "LayoutModel",
            "_view_count": null,
            "_view_module": "@jupyter-widgets/base",
            "_view_module_version": "1.2.0",
            "_view_name": "LayoutView",
            "align_content": null,
            "align_items": null,
            "align_self": null,
            "border": null,
            "bottom": null,
            "display": null,
            "flex": null,
            "flex_flow": null,
            "grid_area": null,
            "grid_auto_columns": null,
            "grid_auto_flow": null,
            "grid_auto_rows": null,
            "grid_column": null,
            "grid_gap": null,
            "grid_row": null,
            "grid_template_areas": null,
            "grid_template_columns": null,
            "grid_template_rows": null,
            "height": null,
            "justify_content": null,
            "justify_items": null,
            "left": null,
            "margin": null,
            "max_height": null,
            "max_width": null,
            "min_height": null,
            "min_width": null,
            "object_fit": null,
            "object_position": null,
            "order": null,
            "overflow": null,
            "overflow_x": null,
            "overflow_y": null,
            "padding": null,
            "right": null,
            "top": null,
            "visibility": null,
            "width": null
          }
        },
        "7cf8adead22647c583787d0e66b66256": {
          "model_module": "@jupyter-widgets/base",
          "model_name": "LayoutModel",
          "model_module_version": "1.2.0",
          "state": {
            "_model_module": "@jupyter-widgets/base",
            "_model_module_version": "1.2.0",
            "_model_name": "LayoutModel",
            "_view_count": null,
            "_view_module": "@jupyter-widgets/base",
            "_view_module_version": "1.2.0",
            "_view_name": "LayoutView",
            "align_content": null,
            "align_items": null,
            "align_self": null,
            "border": null,
            "bottom": null,
            "display": null,
            "flex": null,
            "flex_flow": null,
            "grid_area": null,
            "grid_auto_columns": null,
            "grid_auto_flow": null,
            "grid_auto_rows": null,
            "grid_column": null,
            "grid_gap": null,
            "grid_row": null,
            "grid_template_areas": null,
            "grid_template_columns": null,
            "grid_template_rows": null,
            "height": null,
            "justify_content": null,
            "justify_items": null,
            "left": null,
            "margin": null,
            "max_height": null,
            "max_width": null,
            "min_height": null,
            "min_width": null,
            "object_fit": null,
            "object_position": null,
            "order": null,
            "overflow": null,
            "overflow_x": null,
            "overflow_y": null,
            "padding": null,
            "right": null,
            "top": null,
            "visibility": null,
            "width": null
          }
        },
        "a5d7807d96d8425f947befd37c30dea1": {
          "model_module": "@jupyter-widgets/controls",
          "model_name": "DescriptionStyleModel",
          "model_module_version": "1.5.0",
          "state": {
            "_model_module": "@jupyter-widgets/controls",
            "_model_module_version": "1.5.0",
            "_model_name": "DescriptionStyleModel",
            "_view_count": null,
            "_view_module": "@jupyter-widgets/base",
            "_view_module_version": "1.2.0",
            "_view_name": "StyleView",
            "description_width": ""
          }
        },
        "14077b8d39be4a0699ce784615f80833": {
          "model_module": "@jupyter-widgets/base",
          "model_name": "LayoutModel",
          "model_module_version": "1.2.0",
          "state": {
            "_model_module": "@jupyter-widgets/base",
            "_model_module_version": "1.2.0",
            "_model_name": "LayoutModel",
            "_view_count": null,
            "_view_module": "@jupyter-widgets/base",
            "_view_module_version": "1.2.0",
            "_view_name": "LayoutView",
            "align_content": null,
            "align_items": null,
            "align_self": null,
            "border": null,
            "bottom": null,
            "display": null,
            "flex": null,
            "flex_flow": null,
            "grid_area": null,
            "grid_auto_columns": null,
            "grid_auto_flow": null,
            "grid_auto_rows": null,
            "grid_column": null,
            "grid_gap": null,
            "grid_row": null,
            "grid_template_areas": null,
            "grid_template_columns": null,
            "grid_template_rows": null,
            "height": null,
            "justify_content": null,
            "justify_items": null,
            "left": null,
            "margin": null,
            "max_height": null,
            "max_width": null,
            "min_height": null,
            "min_width": null,
            "object_fit": null,
            "object_position": null,
            "order": null,
            "overflow": null,
            "overflow_x": null,
            "overflow_y": null,
            "padding": null,
            "right": null,
            "top": null,
            "visibility": null,
            "width": null
          }
        },
        "4a7495ba66d84555867f697f7abc7de1": {
          "model_module": "@jupyter-widgets/controls",
          "model_name": "ProgressStyleModel",
          "model_module_version": "1.5.0",
          "state": {
            "_model_module": "@jupyter-widgets/controls",
            "_model_module_version": "1.5.0",
            "_model_name": "ProgressStyleModel",
            "_view_count": null,
            "_view_module": "@jupyter-widgets/base",
            "_view_module_version": "1.2.0",
            "_view_name": "StyleView",
            "bar_color": null,
            "description_width": ""
          }
        },
        "c920e02120074fbc9d7df73e8eb5536e": {
          "model_module": "@jupyter-widgets/base",
          "model_name": "LayoutModel",
          "model_module_version": "1.2.0",
          "state": {
            "_model_module": "@jupyter-widgets/base",
            "_model_module_version": "1.2.0",
            "_model_name": "LayoutModel",
            "_view_count": null,
            "_view_module": "@jupyter-widgets/base",
            "_view_module_version": "1.2.0",
            "_view_name": "LayoutView",
            "align_content": null,
            "align_items": null,
            "align_self": null,
            "border": null,
            "bottom": null,
            "display": null,
            "flex": null,
            "flex_flow": null,
            "grid_area": null,
            "grid_auto_columns": null,
            "grid_auto_flow": null,
            "grid_auto_rows": null,
            "grid_column": null,
            "grid_gap": null,
            "grid_row": null,
            "grid_template_areas": null,
            "grid_template_columns": null,
            "grid_template_rows": null,
            "height": null,
            "justify_content": null,
            "justify_items": null,
            "left": null,
            "margin": null,
            "max_height": null,
            "max_width": null,
            "min_height": null,
            "min_width": null,
            "object_fit": null,
            "object_position": null,
            "order": null,
            "overflow": null,
            "overflow_x": null,
            "overflow_y": null,
            "padding": null,
            "right": null,
            "top": null,
            "visibility": null,
            "width": null
          }
        },
        "1c8f34e40eb34e8baee89c7609b0318d": {
          "model_module": "@jupyter-widgets/controls",
          "model_name": "DescriptionStyleModel",
          "model_module_version": "1.5.0",
          "state": {
            "_model_module": "@jupyter-widgets/controls",
            "_model_module_version": "1.5.0",
            "_model_name": "DescriptionStyleModel",
            "_view_count": null,
            "_view_module": "@jupyter-widgets/base",
            "_view_module_version": "1.2.0",
            "_view_name": "StyleView",
            "description_width": ""
          }
        }
      }
    }
  },
  "nbformat": 4,
  "nbformat_minor": 0
}