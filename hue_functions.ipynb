{
  "nbformat": 4,
  "nbformat_minor": 0,
  "metadata": {
    "colab": {
      "provenance": [],
      "authorship_tag": "ABX9TyMcH4flZSqje85dn2/9ERCq",
      "include_colab_link": true
    },
    "kernelspec": {
      "name": "python3",
      "display_name": "Python 3"
    },
    "language_info": {
      "name": "python"
    }
  },
  "cells": [
    {
      "cell_type": "markdown",
      "metadata": {
        "id": "view-in-github",
        "colab_type": "text"
      },
      "source": [
        "<a href=\"https://colab.research.google.com/github/reaganest/skin-disease-diagnosis/blob/Milestone-7/hue_functions.ipynb\" target=\"_parent\"><img src=\"https://colab.research.google.com/assets/colab-badge.svg\" alt=\"Open In Colab\"/></a>"
      ]
    },
    {
      "cell_type": "code",
      "execution_count": 1,
      "metadata": {
        "colab": {
          "base_uri": "https://localhost:8080/"
        },
        "id": "okR_bQafd7C5",
        "outputId": "9c7e28e2-cf94-4934-e853-4cbf76bc942d"
      },
      "outputs": [
        {
          "output_type": "stream",
          "name": "stdout",
          "text": [
            "Mounted at /content/drive/\n"
          ]
        }
      ],
      "source": [
        " ## to access the google drive with the google account\n",
        "from google.colab import drive\n",
        "drive.mount('/content/drive/')"
      ]
    },
    {
      "cell_type": "code",
      "source": [
        "from PIL import Image\n",
        "import os\n",
        "import torch\n",
        "import torchvision\n",
        "import cv2\n",
        "import argparse\n",
        "import numpy as np\n",
        "import random\n",
        "import skimage\n",
        "import matplotlib.pyplot as plt\n",
        "from torchvision.transforms import transforms as transforms\n",
        "from skimage.color import rgb2gray\n",
        "from skimage.segmentation import felzenszwalb, slic, quickshift, watershed\n",
        "from skimage import io, segmentation, color\n",
        "from skimage.io import imread\n",
        "from skimage.util import img_as_ubyte\n",
        "from skimage.util import img_as_float\n",
        "from skimage.segmentation import mark_boundaries\n",
        "from skimage.filters import sobel\n",
        "from sklearn.cluster import KMeans\n",
        "import torchvision.transforms.functional as F\n",
        "from skimage.color import rgb2lab\n",
        "import math\n",
        "from skimage.color import rgb2hsv"
      ],
      "metadata": {
        "id": "sInt0yOBeAtp"
      },
      "execution_count": 2,
      "outputs": []
    },
    {
      "cell_type": "code",
      "source": [
        "def get_image_path(root, images):\n",
        "    return os.path.join(root, images)\n",
        "\n",
        "def read_image(image_path):\n",
        "    return io.imread(image_path)\n",
        "\n",
        "def get_segment_slic(sk_image, n_segments=10, compactness=20, sigma=1, start_label=0):\n",
        "    return slic(sk_image, n_segments, compactness, sigma, start_label)\n",
        "\n",
        "def convert_rgb_to_hsv(sk_image):\n",
        "    return rgb2hsv(sk_image)\n",
        "\n",
        "def get_hue_img(hsv_img):\n",
        "    return hsv_img[:, :, 0]\n",
        "\n",
        "def find_superpixel_with_highest_hue(segment_slic, sk_image, base_distance=361):\n",
        "    lists = []\n",
        "    for index in np.unique(segment_slic):\n",
        "        hue_mask = (segment_slic == index)\n",
        "        sk_mask = sk_image[hue_mask]\n",
        "        euclidean_distance = math.dist(sk_mask[0], [360,0,0])\n",
        "        if euclidean_distance < base_distance:\n",
        "            base_distance = euclidean_distance\n",
        "            label = index\n",
        "    return label\n",
        "\n",
        "def get_hue_id(segment_slic, label):\n",
        "    return np.where((np.unique(segment_slic))==label)[0][0]\n",
        "\n",
        "def get_hue_mask(segment_slic, hue_id):\n",
        "    return (segment_slic == hue_id)\n",
        "\n",
        "def get_bbox(hue_mask):\n",
        "    return np.array([np.min(np.where(hue_mask)[0]),\n",
        "                     np.max(np.where(hue_mask)[0]),\n",
        "                     np.min(np.where(hue_mask)[1]),\n",
        "                     np.max(np.where(hue_mask)[1])])\n",
        "\n",
        "def get_bbox_image(sk_image, bbox):\n",
        "    return sk_image.copy()[bbox[0]:bbox[1],bbox[2]:bbox[3]]\n",
        "\n",
        "def compute_middle(bbox):\n",
        "    return np.array([bbox[2]+(bbox[3]-bbox[2])/2,bbox[0]+(bbox[1]-bbox[0])/2])\n",
        "\n",
        "def get_new_bbox(middle, bbox):\n",
        "    return np.array([middle[0] - (bbox[3] - bbox[2]),\n",
        "                     middle[0] + (bbox[3] - bbox[2]),\n",
        "                     middle[1] - (bbox[1] - bbox[0]),\n",
        "                     middle[1] + (bbox[1] - bbox[0])])\n",
        "\n",
        "def get_final_bbox(new_bbox):\n",
        "    return np.round(new_bbox).astype(int)\n",
        "\n",
        "def get_cropped_image(sk_image, final_bbox):\n",
        "    return sk_image.copy()[final_bbox[2]:final_bbox[3], final_bbox[0]:final_bbox[1]]\n",
        "\n",
        "def display_results(hue_img, sk_image, hue_mask, cropped):\n",
        "    print('Original Image (Left) & Superpixel with the highest hue (Right):')\n",
        "    plt.subplot(2, 1, 2)\n",
        "    plt.imshow(hue_img)\n",
        "    plt.subplot(2, 2, 1)\n",
        "    plt.imshow(mark_boundaries(sk_image,hue_mask))\n",
        "\n",
        "    plt.subplot(2, 2, 2)\n",
        "    plt.imshow(cropped)\n",
        "\n",
        "    plt.show()\n",
        "\n",
        "def process_image(root, images):\n",
        "    image_path = get_image_path(root, images)\n",
        "    sk_image = read_image(image_path)\n",
        "    segment_slic = get_segment_slic(sk_image)\n",
        "    hsv_img = convert_rgb_to_hsv(sk_image)\n",
        "    hue_img = get_hue_img(hsv_img)\n",
        "    label = find_superpixel_with_highest_hue(segment_slic, sk_image)\n",
        "    hue_id = get_hue_id(segment_slic, label)\n",
        "    hue_mask = get_hue_mask(segment_slic, hue_id)\n",
        "    bbox = get_bbox(hue_mask)\n",
        "    bbox_image = get_bbox_image(sk_image, bbox)\n",
        "    middle = compute_middle(bbox)\n",
        "    new_bbox = get_new_bbox(middle, bbox)\n",
        "    final_bbox = get_final_bbox(new_bbox)\n",
        "    cropped = get_cropped_image(sk_image, final_bbox)\n",
        "    display_results(hue_img, sk_image, hue_mask, cropped)\n",
        "\n",
        "def process_folder(folder_path):\n",
        "    for root, dirs, files in os.walk(folder_path):\n",
        "        for file in files:\n",
        "            if file.endswith('.jpg'):\n",
        "                print(f\"Processing image: {file}\")\n",
        "                process_image(root, file)\n",
        "\n",
        "\n",
        "folder_path = \"/content/drive/MyDrive/Skin/BU/\"\n",
        "process_folder(folder_path)"
      ],
      "metadata": {
        "id": "Q5W1KNbieB-J"
      },
      "execution_count": 6,
      "outputs": []
    }
  ]
}